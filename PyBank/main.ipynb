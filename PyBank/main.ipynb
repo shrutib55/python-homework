{
 "cells": [
  {
   "cell_type": "code",
   "execution_count": 30,
   "id": "e18570df-d04d-4f28-a93e-d68e3ea3988e",
   "metadata": {},
   "outputs": [],
   "source": [
    "import csv\n",
    "from pathlib import Path"
   ]
  },
  {
   "cell_type": "code",
   "execution_count": 31,
   "id": "9cbccf49-a7ce-403d-80dd-43bc01fb8a6d",
   "metadata": {},
   "outputs": [],
   "source": [
    "csv_file = Path('budget_data.csv')"
   ]
  },
  {
   "cell_type": "code",
   "execution_count": 32,
   "id": "b6b05082-4d3e-4e17-be22-8b54a2b2f282",
   "metadata": {},
   "outputs": [],
   "source": [
    "total_months = 0\n",
    "month_of_change = []\n",
    "net_change_list = []\n",
    "top_increase = [\"\", 0]\n",
    "top_decrease = [\"\", 9999999999999]\n",
    "total_net = 0"
   ]
  },
  {
   "cell_type": "code",
   "execution_count": 33,
   "id": "59ec009a-dd81-4dac-83a9-9e7775cb2948",
   "metadata": {},
   "outputs": [],
   "source": [
    "with open(csv_file) as financial_data:\n",
    "    reader = csv.reader(financial_data)\n",
    "    \n",
    "    header = next(reader)\n",
    "    \n",
    "    first_row = next(reader)\n",
    "    \n",
    "    total_months = total_months + 1\n",
    "    \n",
    "    total_net = total_net + int(first_row[1])\n",
    "    \n",
    "    prev_net = int(first_row[1])\n",
    "    \n",
    "    for row in reader:\n",
    "        \n",
    "        total_months = total_months + 1\n",
    "        total_net = total_net + int(row[1])\n",
    "        \n",
    "        net_change = int(row[1]) - prev_net\n",
    "        prev_net = int(row[1])\n",
    "        net_change_list.append(net_change)\n",
    "        month_of_change.append(row[0])\n",
    "        \n",
    "        if net_change > top_increase[1]:\n",
    "            top_increase[0] = row[0]\n",
    "            top_increase[1] = net_change\n",
    "            \n",
    "        if net_change < top_decrease[1]:\n",
    "            top_decrease[0] = row[0]\n",
    "            top_decrease[1] = net_change"
   ]
  },
  {
   "cell_type": "code",
   "execution_count": 34,
   "id": "329c94c7-81d7-4c29-a71b-fdc13adada02",
   "metadata": {},
   "outputs": [],
   "source": [
    "monthly_average = sum(net_change_list)/len(net_change_list)"
   ]
  },
  {
   "cell_type": "code",
   "execution_count": 35,
   "id": "6616c5a1-16b9-4db8-8aa7-16d31f773959",
   "metadata": {},
   "outputs": [
    {
     "data": {
      "text/plain": [
       "-2315.1176470588234"
      ]
     },
     "execution_count": 35,
     "metadata": {},
     "output_type": "execute_result"
    }
   ],
   "source": [
    "monthly_average"
   ]
  },
  {
   "cell_type": "code",
   "execution_count": 36,
   "id": "3ff45676-0c9a-459d-a852-3c5d1c0529be",
   "metadata": {},
   "outputs": [],
   "source": [
    "output_file = Path('budget_analysis.txt')"
   ]
  },
  {
   "cell_type": "code",
   "execution_count": 37,
   "id": "cfd8fe8e-f73f-4a94-80bd-ad25da6db17a",
   "metadata": {},
   "outputs": [],
   "source": [
    "with open(output_file, \"w\") as txt_file:\n",
    "    txt_file.write(f\"Finanial Analysis\\n\")\n",
    "    txt_file.write(\"------------------------\\n\")\n",
    "    txt_file.write(f\"Total Months: {total_months}\\n\")\n",
    "    txt_file.write(f\"Average Change: {monthly_average}\\n\")\n",
    "    txt_file.write(f\"Greatest Increase in Profits: {top_increase[0]}, {top_increase[1]}\\n\")\n",
    "    txt_file.write(f\"Greatest Decrease in Profits: {top_decrease[0]}, {top_decrease[1]}\\n\")"
   ]
  },
  {
   "cell_type": "code",
   "execution_count": null,
   "id": "08285938-47e2-4f56-a42d-622ea1487f3c",
   "metadata": {},
   "outputs": [],
   "source": []
  }
 ],
 "metadata": {
  "kernelspec": {
   "display_name": "Python 3",
   "language": "python",
   "name": "python3"
  },
  "language_info": {
   "codemirror_mode": {
    "name": "ipython",
    "version": 3
   },
   "file_extension": ".py",
   "mimetype": "text/x-python",
   "name": "python",
   "nbconvert_exporter": "python",
   "pygments_lexer": "ipython3",
   "version": "3.8.8"
  }
 },
 "nbformat": 4,
 "nbformat_minor": 5
}
